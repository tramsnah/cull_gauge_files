{
 "cells": [
  {
   "cell_type": "code",
   "execution_count": 1,
   "id": "ec04700e",
   "metadata": {},
   "outputs": [],
   "source": [
    "import numpy as np\n",
    "import pandas as pd\n",
    "import dateutil"
   ]
  },
  {
   "cell_type": "code",
   "execution_count": 2,
   "id": "a0054c79",
   "metadata": {},
   "outputs": [],
   "source": [
    "df = pd.read_csv(r'test_data\\tiny_44147_B.ASC', header=None, skiprows=20,  \n",
    "                             infer_datetime_format=True, encoding='ANSI',\n",
    "                             engine='python', parse_dates=[0], skipinitialspace=True,\n",
    "                             sep=None)"
   ]
  },
  {
   "cell_type": "code",
   "execution_count": 3,
   "id": "3ef3abf0",
   "metadata": {
    "scrolled": true
   },
   "outputs": [
    {
     "data": {
      "text/html": [
       "<div>\n",
       "<style scoped>\n",
       "    .dataframe tbody tr th:only-of-type {\n",
       "        vertical-align: middle;\n",
       "    }\n",
       "\n",
       "    .dataframe tbody tr th {\n",
       "        vertical-align: top;\n",
       "    }\n",
       "\n",
       "    .dataframe thead th {\n",
       "        text-align: right;\n",
       "    }\n",
       "</style>\n",
       "<table border=\"1\" class=\"dataframe\">\n",
       "  <thead>\n",
       "    <tr style=\"text-align: right;\">\n",
       "      <th></th>\n",
       "      <th>0</th>\n",
       "      <th>1</th>\n",
       "      <th>2</th>\n",
       "      <th>3</th>\n",
       "      <th>4</th>\n",
       "    </tr>\n",
       "  </thead>\n",
       "  <tbody>\n",
       "    <tr>\n",
       "      <th>0</th>\n",
       "      <td>2007-06-30</td>\n",
       "      <td>19:46:49</td>\n",
       "      <td>196.20521</td>\n",
       "      <td>412.475</td>\n",
       "      <td>133.288</td>\n",
       "    </tr>\n",
       "    <tr>\n",
       "      <th>1</th>\n",
       "      <td>2007-06-30</td>\n",
       "      <td>19:46:59</td>\n",
       "      <td>196.20799</td>\n",
       "      <td>412.476</td>\n",
       "      <td>133.288</td>\n",
       "    </tr>\n",
       "    <tr>\n",
       "      <th>2</th>\n",
       "      <td>2007-06-30</td>\n",
       "      <td>19:47:09</td>\n",
       "      <td>196.21077</td>\n",
       "      <td>412.476</td>\n",
       "      <td>133.288</td>\n",
       "    </tr>\n",
       "    <tr>\n",
       "      <th>3</th>\n",
       "      <td>2007-06-30</td>\n",
       "      <td>19:47:19</td>\n",
       "      <td>196.21354</td>\n",
       "      <td>412.476</td>\n",
       "      <td>133.288</td>\n",
       "    </tr>\n",
       "    <tr>\n",
       "      <th>4</th>\n",
       "      <td>2007-06-30</td>\n",
       "      <td>19:47:29</td>\n",
       "      <td>196.21632</td>\n",
       "      <td>412.477</td>\n",
       "      <td>133.288</td>\n",
       "    </tr>\n",
       "    <tr>\n",
       "      <th>...</th>\n",
       "      <td>...</td>\n",
       "      <td>...</td>\n",
       "      <td>...</td>\n",
       "      <td>...</td>\n",
       "      <td>...</td>\n",
       "    </tr>\n",
       "    <tr>\n",
       "      <th>3516</th>\n",
       "      <td>2007-01-07</td>\n",
       "      <td>05:32:46</td>\n",
       "      <td>205.97108</td>\n",
       "      <td>413.391</td>\n",
       "      <td>133.313</td>\n",
       "    </tr>\n",
       "    <tr>\n",
       "      <th>3517</th>\n",
       "      <td>2007-01-07</td>\n",
       "      <td>05:32:56</td>\n",
       "      <td>205.97386</td>\n",
       "      <td>413.392</td>\n",
       "      <td>133.313</td>\n",
       "    </tr>\n",
       "    <tr>\n",
       "      <th>3518</th>\n",
       "      <td>2007-01-07</td>\n",
       "      <td>05:33:06</td>\n",
       "      <td>205.97664</td>\n",
       "      <td>413.392</td>\n",
       "      <td>133.313</td>\n",
       "    </tr>\n",
       "    <tr>\n",
       "      <th>3519</th>\n",
       "      <td>2007-01-07</td>\n",
       "      <td>05:33:16</td>\n",
       "      <td>205.97941</td>\n",
       "      <td>413.392</td>\n",
       "      <td>133.313</td>\n",
       "    </tr>\n",
       "    <tr>\n",
       "      <th>3520</th>\n",
       "      <td>2007-01-07</td>\n",
       "      <td>05:33:26</td>\n",
       "      <td>205.98219</td>\n",
       "      <td>413.392</td>\n",
       "      <td>133.313</td>\n",
       "    </tr>\n",
       "  </tbody>\n",
       "</table>\n",
       "<p>3521 rows × 5 columns</p>\n",
       "</div>"
      ],
      "text/plain": [
       "              0         1          2        3        4\n",
       "0    2007-06-30  19:46:49  196.20521  412.475  133.288\n",
       "1    2007-06-30  19:46:59  196.20799  412.476  133.288\n",
       "2    2007-06-30  19:47:09  196.21077  412.476  133.288\n",
       "3    2007-06-30  19:47:19  196.21354  412.476  133.288\n",
       "4    2007-06-30  19:47:29  196.21632  412.477  133.288\n",
       "...         ...       ...        ...      ...      ...\n",
       "3516 2007-01-07  05:32:46  205.97108  413.391  133.313\n",
       "3517 2007-01-07  05:32:56  205.97386  413.392  133.313\n",
       "3518 2007-01-07  05:33:06  205.97664  413.392  133.313\n",
       "3519 2007-01-07  05:33:16  205.97941  413.392  133.313\n",
       "3520 2007-01-07  05:33:26  205.98219  413.392  133.313\n",
       "\n",
       "[3521 rows x 5 columns]"
      ]
     },
     "execution_count": 3,
     "metadata": {},
     "output_type": "execute_result"
    }
   ],
   "source": [
    "df"
   ]
  },
  {
   "cell_type": "code",
   "execution_count": 4,
   "id": "2a968534",
   "metadata": {},
   "outputs": [
    {
     "data": {
      "text/plain": [
       "0      2007-06-30\n",
       "1      2007-06-30\n",
       "2      2007-06-30\n",
       "3      2007-06-30\n",
       "4      2007-06-30\n",
       "          ...    \n",
       "3516   2007-01-07\n",
       "3517   2007-01-07\n",
       "3518   2007-01-07\n",
       "3519   2007-01-07\n",
       "3520   2007-01-07\n",
       "Name: 0, Length: 3521, dtype: datetime64[ns]"
      ]
     },
     "execution_count": 4,
     "metadata": {},
     "output_type": "execute_result"
    }
   ],
   "source": [
    "df[0]"
   ]
  },
  {
   "cell_type": "code",
   "execution_count": 8,
   "id": "20bfe63c",
   "metadata": {},
   "outputs": [
    {
     "data": {
      "text/plain": [
       "0       30-06-07\n",
       "1       30-06-07\n",
       "2       30-06-07\n",
       "3       30-06-07\n",
       "4       30-06-07\n",
       "          ...   \n",
       "3516    07-01-07\n",
       "3517    07-01-07\n",
       "3518    07-01-07\n",
       "3519    07-01-07\n",
       "3520    07-01-07\n",
       "Name: 0, Length: 3521, dtype: object"
      ]
     },
     "execution_count": 8,
     "metadata": {},
     "output_type": "execute_result"
    }
   ],
   "source": [
    "date_as_str = df[0].dt.strftime('%d-%m-%y')\n",
    "date_as_str"
   ]
  },
  {
   "cell_type": "code",
   "execution_count": 12,
   "id": "90c28356",
   "metadata": {},
   "outputs": [],
   "source": [
    "date_inv=pd.to_datetime(date_as_str, format='%m-%d-%y', errors='coerce')"
   ]
  },
  {
   "cell_type": "code",
   "execution_count": 15,
   "id": "99799500",
   "metadata": {},
   "outputs": [],
   "source": [
    "date_inv = date_inv.fillna(df[0])"
   ]
  },
  {
   "cell_type": "code",
   "execution_count": 49,
   "id": "19f6e1ec",
   "metadata": {},
   "outputs": [],
   "source": [
    "def _check_dates(ds):\n",
    "    dis = ds+np.timedelta64(1, \"D\")\n",
    "    dis = dis.shift(1)\n",
    "    dck = (dis >= ds)\n",
    "    dck[0] = True # because of the shift\n",
    "    nwrong = (~dck).sum()\n",
    "\n",
    "    dis = ds-np.timedelta64(1, \"D\")\n",
    "    dis = dis.shift(1)\n",
    "    dck = (dis < ds)\n",
    "    dck[0] = True # because of the shift\n",
    "    nwrong += (~dck).sum()\n",
    "    return nwrong"
   ]
  },
  {
   "cell_type": "code",
   "execution_count": 60,
   "id": "a192bece",
   "metadata": {},
   "outputs": [],
   "source": [
    "def _try_day_month_swap(ds):\n",
    "    date_as_str = ds.dt.strftime('%d-%m-%y %H:%M:%S.%f')\n",
    "    date_inv=pd.to_datetime(date_as_str, format='%m-%d-%y %H:%M:%S.%f', errors='coerce')\n",
    "    date_inv = date_inv.fillna(ds)\n",
    "    \n",
    "    n1 = _check_dates(ds)\n",
    "    n2 = _check_dates(date_inv)\n",
    "    if (n1<=n2):\n",
    "        print(\"Kept day/month the same\")\n",
    "        return ds\n",
    "    else:\n",
    "        print(\"Swapped day/month\")\n",
    "        return date_inv"
   ]
  },
  {
   "cell_type": "code",
   "execution_count": 61,
   "id": "8b885fe6",
   "metadata": {},
   "outputs": [
    {
     "name": "stdout",
     "output_type": "stream",
     "text": [
      "Swapped day/month\n"
     ]
    },
    {
     "data": {
      "text/plain": [
       "0      2007-06-30\n",
       "1      2007-06-30\n",
       "2      2007-06-30\n",
       "3      2007-06-30\n",
       "4      2007-06-30\n",
       "          ...    \n",
       "3516   2007-07-01\n",
       "3517   2007-07-01\n",
       "3518   2007-07-01\n",
       "3519   2007-07-01\n",
       "3520   2007-07-01\n",
       "Name: 0, Length: 3521, dtype: datetime64[ns]"
      ]
     },
     "execution_count": 61,
     "metadata": {},
     "output_type": "execute_result"
    }
   ],
   "source": [
    "_try_day_month_swap(df[0])"
   ]
  },
  {
   "cell_type": "code",
   "execution_count": 62,
   "id": "e33d203c",
   "metadata": {},
   "outputs": [],
   "source": [
    "df2 = pd.read_csv(r'test_data\\tiny_test.cli', header=None, skiprows=20,  \n",
    "                             infer_datetime_format=True, encoding='ANSI',\n",
    "                             engine='python', parse_dates=[0], skipinitialspace=True,\n",
    "                             sep=None)"
   ]
  },
  {
   "cell_type": "code",
   "execution_count": 63,
   "id": "b2705d5a",
   "metadata": {},
   "outputs": [
    {
     "data": {
      "text/html": [
       "<div>\n",
       "<style scoped>\n",
       "    .dataframe tbody tr th:only-of-type {\n",
       "        vertical-align: middle;\n",
       "    }\n",
       "\n",
       "    .dataframe tbody tr th {\n",
       "        vertical-align: top;\n",
       "    }\n",
       "\n",
       "    .dataframe thead th {\n",
       "        text-align: right;\n",
       "    }\n",
       "</style>\n",
       "<table border=\"1\" class=\"dataframe\">\n",
       "  <thead>\n",
       "    <tr style=\"text-align: right;\">\n",
       "      <th></th>\n",
       "      <th>0</th>\n",
       "      <th>1</th>\n",
       "      <th>2</th>\n",
       "    </tr>\n",
       "  </thead>\n",
       "  <tbody>\n",
       "    <tr>\n",
       "      <th>0</th>\n",
       "      <td>2022-05-05 16:32:46</td>\n",
       "      <td>1.021174</td>\n",
       "      <td>23.012627</td>\n",
       "    </tr>\n",
       "    <tr>\n",
       "      <th>1</th>\n",
       "      <td>2022-05-05 16:32:47</td>\n",
       "      <td>1.021168</td>\n",
       "      <td>23.011930</td>\n",
       "    </tr>\n",
       "    <tr>\n",
       "      <th>2</th>\n",
       "      <td>2022-05-05 16:32:48</td>\n",
       "      <td>1.021230</td>\n",
       "      <td>23.011249</td>\n",
       "    </tr>\n",
       "    <tr>\n",
       "      <th>3</th>\n",
       "      <td>2022-05-05 16:32:49</td>\n",
       "      <td>1.021246</td>\n",
       "      <td>23.010487</td>\n",
       "    </tr>\n",
       "    <tr>\n",
       "      <th>4</th>\n",
       "      <td>2022-05-05 16:32:50</td>\n",
       "      <td>1.021287</td>\n",
       "      <td>23.009835</td>\n",
       "    </tr>\n",
       "    <tr>\n",
       "      <th>...</th>\n",
       "      <td>...</td>\n",
       "      <td>...</td>\n",
       "      <td>...</td>\n",
       "    </tr>\n",
       "    <tr>\n",
       "      <th>405</th>\n",
       "      <td>2022-05-05 16:39:31</td>\n",
       "      <td>0.974018</td>\n",
       "      <td>23.710824</td>\n",
       "    </tr>\n",
       "    <tr>\n",
       "      <th>406</th>\n",
       "      <td>2022-05-05 16:39:32</td>\n",
       "      <td>0.973842</td>\n",
       "      <td>23.711551</td>\n",
       "    </tr>\n",
       "    <tr>\n",
       "      <th>407</th>\n",
       "      <td>2022-05-05 16:39:33</td>\n",
       "      <td>0.973218</td>\n",
       "      <td>23.712359</td>\n",
       "    </tr>\n",
       "    <tr>\n",
       "      <th>408</th>\n",
       "      <td>2022-05-05 16:39:34</td>\n",
       "      <td>0.971580</td>\n",
       "      <td>23.713123</td>\n",
       "    </tr>\n",
       "    <tr>\n",
       "      <th>409</th>\n",
       "      <td>2022-05-05 16:39:35</td>\n",
       "      <td>0.970920</td>\n",
       "      <td>23.713935</td>\n",
       "    </tr>\n",
       "  </tbody>\n",
       "</table>\n",
       "<p>410 rows × 3 columns</p>\n",
       "</div>"
      ],
      "text/plain": [
       "                      0         1          2\n",
       "0   2022-05-05 16:32:46  1.021174  23.012627\n",
       "1   2022-05-05 16:32:47  1.021168  23.011930\n",
       "2   2022-05-05 16:32:48  1.021230  23.011249\n",
       "3   2022-05-05 16:32:49  1.021246  23.010487\n",
       "4   2022-05-05 16:32:50  1.021287  23.009835\n",
       "..                  ...       ...        ...\n",
       "405 2022-05-05 16:39:31  0.974018  23.710824\n",
       "406 2022-05-05 16:39:32  0.973842  23.711551\n",
       "407 2022-05-05 16:39:33  0.973218  23.712359\n",
       "408 2022-05-05 16:39:34  0.971580  23.713123\n",
       "409 2022-05-05 16:39:35  0.970920  23.713935\n",
       "\n",
       "[410 rows x 3 columns]"
      ]
     },
     "execution_count": 63,
     "metadata": {},
     "output_type": "execute_result"
    }
   ],
   "source": [
    "df2"
   ]
  },
  {
   "cell_type": "code",
   "execution_count": 64,
   "id": "a2a195cf",
   "metadata": {},
   "outputs": [
    {
     "name": "stdout",
     "output_type": "stream",
     "text": [
      "Kept day/month the same\n"
     ]
    },
    {
     "data": {
      "text/plain": [
       "0     2022-05-05 16:32:46\n",
       "1     2022-05-05 16:32:47\n",
       "2     2022-05-05 16:32:48\n",
       "3     2022-05-05 16:32:49\n",
       "4     2022-05-05 16:32:50\n",
       "              ...        \n",
       "405   2022-05-05 16:39:31\n",
       "406   2022-05-05 16:39:32\n",
       "407   2022-05-05 16:39:33\n",
       "408   2022-05-05 16:39:34\n",
       "409   2022-05-05 16:39:35\n",
       "Name: 0, Length: 410, dtype: datetime64[ns]"
      ]
     },
     "execution_count": 64,
     "metadata": {},
     "output_type": "execute_result"
    }
   ],
   "source": [
    "_try_day_month_swap(df2[0])"
   ]
  },
  {
   "cell_type": "code",
   "execution_count": null,
   "id": "33c61761",
   "metadata": {},
   "outputs": [],
   "source": []
  }
 ],
 "metadata": {
  "kernelspec": {
   "display_name": "Python 3 (ipykernel)",
   "language": "python",
   "name": "python3"
  },
  "language_info": {
   "codemirror_mode": {
    "name": "ipython",
    "version": 3
   },
   "file_extension": ".py",
   "mimetype": "text/x-python",
   "name": "python",
   "nbconvert_exporter": "python",
   "pygments_lexer": "ipython3",
   "version": "3.10.5"
  }
 },
 "nbformat": 4,
 "nbformat_minor": 5
}

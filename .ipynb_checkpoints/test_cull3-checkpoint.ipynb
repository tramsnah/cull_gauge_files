{
 "cells": [
  {
   "cell_type": "code",
   "execution_count": 1,
   "id": "ec04700e",
   "metadata": {},
   "outputs": [],
   "source": [
    "import numpy as np\n",
    "import pandas as pd\n",
    "import dateutil"
   ]
  },
  {
   "cell_type": "code",
   "execution_count": 2,
   "id": "a0054c79",
   "metadata": {},
   "outputs": [],
   "source": [
    "df = pd.read_csv(r'test_data\\tiny_44147_B.ASC', header=None, skiprows=20,  \n",
    "                             infer_datetime_format=True, encoding='ANSI',\n",
    "                             engine='python', parse_dates=[0], skipinitialspace=True,\n",
    "                             sep=None)"
   ]
  },
  {
   "cell_type": "code",
   "execution_count": 3,
   "id": "3ef3abf0",
   "metadata": {
    "scrolled": true
   },
   "outputs": [
    {
     "data": {
      "text/html": [
       "<div>\n",
       "<style scoped>\n",
       "    .dataframe tbody tr th:only-of-type {\n",
       "        vertical-align: middle;\n",
       "    }\n",
       "\n",
       "    .dataframe tbody tr th {\n",
       "        vertical-align: top;\n",
       "    }\n",
       "\n",
       "    .dataframe thead th {\n",
       "        text-align: right;\n",
       "    }\n",
       "</style>\n",
       "<table border=\"1\" class=\"dataframe\">\n",
       "  <thead>\n",
       "    <tr style=\"text-align: right;\">\n",
       "      <th></th>\n",
       "      <th>0</th>\n",
       "      <th>1</th>\n",
       "      <th>2</th>\n",
       "      <th>3</th>\n",
       "      <th>4</th>\n",
       "    </tr>\n",
       "  </thead>\n",
       "  <tbody>\n",
       "    <tr>\n",
       "      <th>0</th>\n",
       "      <td>2007-06-30</td>\n",
       "      <td>19:46:49</td>\n",
       "      <td>196.20521</td>\n",
       "      <td>412.475</td>\n",
       "      <td>133.288</td>\n",
       "    </tr>\n",
       "    <tr>\n",
       "      <th>1</th>\n",
       "      <td>2007-06-30</td>\n",
       "      <td>19:46:59</td>\n",
       "      <td>196.20799</td>\n",
       "      <td>412.476</td>\n",
       "      <td>133.288</td>\n",
       "    </tr>\n",
       "    <tr>\n",
       "      <th>2</th>\n",
       "      <td>2007-06-30</td>\n",
       "      <td>19:47:09</td>\n",
       "      <td>196.21077</td>\n",
       "      <td>412.476</td>\n",
       "      <td>133.288</td>\n",
       "    </tr>\n",
       "    <tr>\n",
       "      <th>3</th>\n",
       "      <td>2007-06-30</td>\n",
       "      <td>19:47:19</td>\n",
       "      <td>196.21354</td>\n",
       "      <td>412.476</td>\n",
       "      <td>133.288</td>\n",
       "    </tr>\n",
       "    <tr>\n",
       "      <th>4</th>\n",
       "      <td>2007-06-30</td>\n",
       "      <td>19:47:29</td>\n",
       "      <td>196.21632</td>\n",
       "      <td>412.477</td>\n",
       "      <td>133.288</td>\n",
       "    </tr>\n",
       "    <tr>\n",
       "      <th>...</th>\n",
       "      <td>...</td>\n",
       "      <td>...</td>\n",
       "      <td>...</td>\n",
       "      <td>...</td>\n",
       "      <td>...</td>\n",
       "    </tr>\n",
       "    <tr>\n",
       "      <th>3516</th>\n",
       "      <td>2007-01-07</td>\n",
       "      <td>05:32:46</td>\n",
       "      <td>205.97108</td>\n",
       "      <td>413.391</td>\n",
       "      <td>133.313</td>\n",
       "    </tr>\n",
       "    <tr>\n",
       "      <th>3517</th>\n",
       "      <td>2007-01-07</td>\n",
       "      <td>05:32:56</td>\n",
       "      <td>205.97386</td>\n",
       "      <td>413.392</td>\n",
       "      <td>133.313</td>\n",
       "    </tr>\n",
       "    <tr>\n",
       "      <th>3518</th>\n",
       "      <td>2007-01-07</td>\n",
       "      <td>05:33:06</td>\n",
       "      <td>205.97664</td>\n",
       "      <td>413.392</td>\n",
       "      <td>133.313</td>\n",
       "    </tr>\n",
       "    <tr>\n",
       "      <th>3519</th>\n",
       "      <td>2007-01-07</td>\n",
       "      <td>05:33:16</td>\n",
       "      <td>205.97941</td>\n",
       "      <td>413.392</td>\n",
       "      <td>133.313</td>\n",
       "    </tr>\n",
       "    <tr>\n",
       "      <th>3520</th>\n",
       "      <td>2007-01-07</td>\n",
       "      <td>05:33:26</td>\n",
       "      <td>205.98219</td>\n",
       "      <td>413.392</td>\n",
       "      <td>133.313</td>\n",
       "    </tr>\n",
       "  </tbody>\n",
       "</table>\n",
       "<p>3521 rows × 5 columns</p>\n",
       "</div>"
      ],
      "text/plain": [
       "              0         1          2        3        4\n",
       "0    2007-06-30  19:46:49  196.20521  412.475  133.288\n",
       "1    2007-06-30  19:46:59  196.20799  412.476  133.288\n",
       "2    2007-06-30  19:47:09  196.21077  412.476  133.288\n",
       "3    2007-06-30  19:47:19  196.21354  412.476  133.288\n",
       "4    2007-06-30  19:47:29  196.21632  412.477  133.288\n",
       "...         ...       ...        ...      ...      ...\n",
       "3516 2007-01-07  05:32:46  205.97108  413.391  133.313\n",
       "3517 2007-01-07  05:32:56  205.97386  413.392  133.313\n",
       "3518 2007-01-07  05:33:06  205.97664  413.392  133.313\n",
       "3519 2007-01-07  05:33:16  205.97941  413.392  133.313\n",
       "3520 2007-01-07  05:33:26  205.98219  413.392  133.313\n",
       "\n",
       "[3521 rows x 5 columns]"
      ]
     },
     "execution_count": 3,
     "metadata": {},
     "output_type": "execute_result"
    }
   ],
   "source": [
    "df"
   ]
  },
  {
   "cell_type": "code",
   "execution_count": 4,
   "id": "2a968534",
   "metadata": {},
   "outputs": [
    {
     "data": {
      "text/plain": [
       "0      2007-06-30\n",
       "1      2007-06-30\n",
       "2      2007-06-30\n",
       "3      2007-06-30\n",
       "4      2007-06-30\n",
       "          ...    \n",
       "3516   2007-01-07\n",
       "3517   2007-01-07\n",
       "3518   2007-01-07\n",
       "3519   2007-01-07\n",
       "3520   2007-01-07\n",
       "Name: 0, Length: 3521, dtype: datetime64[ns]"
      ]
     },
     "execution_count": 4,
     "metadata": {},
     "output_type": "execute_result"
    }
   ],
   "source": [
    "df[0]"
   ]
  },
  {
   "cell_type": "code",
   "execution_count": 8,
   "id": "c5f14c50",
   "metadata": {},
   "outputs": [
    {
     "data": {
      "text/plain": [
       "0       30-06-07\n",
       "1       30-06-07\n",
       "2       30-06-07\n",
       "3       30-06-07\n",
       "4       30-06-07\n",
       "          ...   \n",
       "3516    07-01-07\n",
       "3517    07-01-07\n",
       "3518    07-01-07\n",
       "3519    07-01-07\n",
       "3520    07-01-07\n",
       "Name: 0, Length: 3521, dtype: object"
      ]
     },
     "execution_count": 8,
     "metadata": {},
     "output_type": "execute_result"
    }
   ],
   "source": [
    "date_as_str = df[0].dt.strftime('%d-%m-%y')\n",
    "date_as_str"
   ]
  },
  {
   "cell_type": "code",
   "execution_count": 12,
   "id": "ac7f6bf9",
   "metadata": {},
   "outputs": [],
   "source": [
    "date_inv=pd.to_datetime(date_as_str, format='%m-%d-%y', errors='coerce')"
   ]
  },
  {
   "cell_type": "code",
   "execution_count": 15,
   "id": "6251486f",
   "metadata": {},
   "outputs": [],
   "source": [
    "date_inv = date_inv.fillna(df[0])"
   ]
  },
  {
   "cell_type": "code",
   "execution_count": 33,
   "id": "b490488d",
   "metadata": {},
   "outputs": [],
   "source": [
    "def _check_dates(ds):\n",
    "    dis = ds+np.timedelta64(1, \"D\")\n",
    "    dis = dis.shift(1)\n",
    "    print(dis[1510:1525]\n",
    "    dck = (dis > ds)\n",
    "    dck[0] = True # because of the shift\n",
    "    print((~dck)[1510:1525])\n",
    "    nwrong = (~dck).sum()\n",
    "    return nwrong"
   ]
  },
  {
   "cell_type": "code",
   "execution_count": 34,
   "id": "c665856f",
   "metadata": {},
   "outputs": [
    {
     "name": "stdout",
     "output_type": "stream",
     "text": [
      "0             NaT\n",
      "1      2007-07-01\n",
      "2      2007-07-01\n",
      "3      2007-07-01\n",
      "4      2007-07-01\n",
      "          ...    \n",
      "3516   2007-01-08\n",
      "3517   2007-01-08\n",
      "3518   2007-01-08\n",
      "3519   2007-01-08\n",
      "3520   2007-01-08\n",
      "Name: 0, Length: 3521, dtype: datetime64[ns]\n",
      "0       False\n",
      "1       False\n",
      "2       False\n",
      "3       False\n",
      "4       False\n",
      "        ...  \n",
      "3516    False\n",
      "3517    False\n",
      "3518    False\n",
      "3519    False\n",
      "3520    False\n",
      "Name: 0, Length: 3521, dtype: bool\n"
     ]
    },
    {
     "data": {
      "text/plain": [
       "0"
      ]
     },
     "execution_count": 34,
     "metadata": {},
     "output_type": "execute_result"
    }
   ],
   "source": [
    "_check_dates(df[0])"
   ]
  },
  {
   "cell_type": "code",
   "execution_count": 36,
   "id": "909b056b",
   "metadata": {},
   "outputs": [
    {
     "data": {
      "text/plain": [
       "1510   2007-06-30\n",
       "1511   2007-06-30\n",
       "1512   2007-06-30\n",
       "1513   2007-06-30\n",
       "1514   2007-06-30\n",
       "1515   2007-06-30\n",
       "1516   2007-06-30\n",
       "1517   2007-06-30\n",
       "1518   2007-06-30\n",
       "1519   2007-06-30\n",
       "1520   2007-01-07\n",
       "1521   2007-01-07\n",
       "1522   2007-01-07\n",
       "1523   2007-01-07\n",
       "1524   2007-01-07\n",
       "1525   2007-01-07\n",
       "Name: 0, dtype: datetime64[ns]"
      ]
     },
     "execution_count": 36,
     "metadata": {},
     "output_type": "execute_result"
    }
   ],
   "source": [
    "df.loc[1510:1525,0]"
   ]
  },
  {
   "cell_type": "code",
   "execution_count": 26,
   "id": "9b806083",
   "metadata": {},
   "outputs": [
    {
     "data": {
      "text/plain": [
       "0                      True\n",
       "1       2007-07-01 00:00:00\n",
       "2       2007-07-01 00:00:00\n",
       "3       2007-07-01 00:00:00\n",
       "4       2007-07-01 00:00:00\n",
       "               ...         \n",
       "3516    2007-07-02 00:00:00\n",
       "3517    2007-07-02 00:00:00\n",
       "3518    2007-07-02 00:00:00\n",
       "3519    2007-07-02 00:00:00\n",
       "3520    2007-07-02 00:00:00\n",
       "Name: 0, Length: 3521, dtype: object"
      ]
     },
     "execution_count": 26,
     "metadata": {},
     "output_type": "execute_result"
    }
   ],
   "source": [
    "dis"
   ]
  },
  {
   "cell_type": "code",
   "execution_count": null,
   "id": "f354cc0d",
   "metadata": {},
   "outputs": [],
   "source": []
  }
 ],
 "metadata": {
  "kernelspec": {
   "display_name": "Python 3 (ipykernel)",
   "language": "python",
   "name": "python3"
  },
  "language_info": {
   "codemirror_mode": {
    "name": "ipython",
    "version": 3
   },
   "file_extension": ".py",
   "mimetype": "text/x-python",
   "name": "python",
   "nbconvert_exporter": "python",
   "pygments_lexer": "ipython3",
   "version": "3.10.5"
  }
 },
 "nbformat": 4,
 "nbformat_minor": 5
}
